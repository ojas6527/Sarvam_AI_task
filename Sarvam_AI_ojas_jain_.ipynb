{
  "nbformat": 4,
  "nbformat_minor": 0,
  "metadata": {
    "colab": {
      "provenance": []
    },
    "kernelspec": {
      "name": "python3",
      "display_name": "Python 3"
    },
    "language_info": {
      "name": "python"
    }
  },
  "cells": [
    {
      "cell_type": "markdown",
      "source": [],
      "metadata": {
        "id": "Ac-j2v4mscjA"
      }
    },
    {
      "cell_type": "code",
      "source": [
        "!pip uninstall numpy -y"
      ],
      "metadata": {
        "colab": {
          "base_uri": "https://localhost:8080/"
        },
        "id": "cvdvO4HdrKCk",
        "outputId": "681f2532-e2dc-4525-dcee-38bc710b09a5"
      },
      "execution_count": null,
      "outputs": [
        {
          "output_type": "stream",
          "name": "stdout",
          "text": [
            "\u001b[33mWARNING: Ignoring invalid distribution ~cipy (/usr/local/lib/python3.11/dist-packages)\u001b[0m\u001b[33m\n",
            "\u001b[0m\u001b[33mWARNING: Ignoring invalid distribution ~cipy (/usr/local/lib/python3.11/dist-packages)\u001b[0m\u001b[33m\n",
            "\u001b[0mFound existing installation: numpy 1.25.0\n",
            "Uninstalling numpy-1.25.0:\n",
            "  Successfully uninstalled numpy-1.25.0\n"
          ]
        }
      ]
    },
    {
      "cell_type": "code",
      "source": [
        "!pip install numpy==1.25.0"
      ],
      "metadata": {
        "colab": {
          "base_uri": "https://localhost:8080/"
        },
        "id": "JPJLEIUusdrd",
        "outputId": "9b407edf-a1e5-45c3-e95b-2da057d6ca12"
      },
      "execution_count": 1,
      "outputs": [
        {
          "output_type": "stream",
          "name": "stdout",
          "text": [
            "\u001b[33mWARNING: Ignoring invalid distribution ~cipy (/usr/local/lib/python3.11/dist-packages)\u001b[0m\u001b[33m\n",
            "\u001b[0m\u001b[33mWARNING: Ignoring invalid distribution ~cipy (/usr/local/lib/python3.11/dist-packages)\u001b[0m\u001b[33m\n",
            "\u001b[0mRequirement already satisfied: numpy==1.25.0 in /usr/local/lib/python3.11/dist-packages (1.25.0)\n",
            "\u001b[33mWARNING: Ignoring invalid distribution ~cipy (/usr/local/lib/python3.11/dist-packages)\u001b[0m\u001b[33m\n",
            "\u001b[0m"
          ]
        }
      ]
    },
    {
      "cell_type": "code",
      "execution_count": 2,
      "metadata": {
        "colab": {
          "base_uri": "https://localhost:8080/"
        },
        "id": "uq9YUAHbgV1S",
        "outputId": "dadff559-0c66-49e2-ae77-de7f213dd5ca",
        "collapsed": true
      },
      "outputs": [
        {
          "output_type": "stream",
          "name": "stdout",
          "text": [
            "\u001b[33mWARNING: Ignoring invalid distribution ~cipy (/usr/local/lib/python3.11/dist-packages)\u001b[0m\u001b[33m\n",
            "\u001b[0m\u001b[33mWARNING: Ignoring invalid distribution ~cipy (/usr/local/lib/python3.11/dist-packages)\u001b[0m\u001b[33m\n",
            "\u001b[0mRequirement already satisfied: gensim in /usr/local/lib/python3.11/dist-packages (4.3.3)\n",
            "Requirement already satisfied: numpy<2.0,>=1.18.5 in /usr/local/lib/python3.11/dist-packages (from gensim) (1.25.0)\n",
            "Collecting scipy<1.14.0,>=1.7.0 (from gensim)\n",
            "  Using cached scipy-1.13.1-cp311-cp311-manylinux_2_17_x86_64.manylinux2014_x86_64.whl.metadata (60 kB)\n",
            "Requirement already satisfied: smart-open>=1.8.1 in /usr/local/lib/python3.11/dist-packages (from gensim) (7.1.0)\n",
            "Requirement already satisfied: wrapt in /usr/local/lib/python3.11/dist-packages (from smart-open>=1.8.1->gensim) (1.17.2)\n",
            "Using cached scipy-1.13.1-cp311-cp311-manylinux_2_17_x86_64.manylinux2014_x86_64.whl (38.6 MB)\n",
            "\u001b[33mWARNING: Ignoring invalid distribution ~cipy (/usr/local/lib/python3.11/dist-packages)\u001b[0m\u001b[33m\n",
            "\u001b[0mInstalling collected packages: scipy\n",
            "\u001b[33mWARNING: Ignoring invalid distribution ~cipy (/usr/local/lib/python3.11/dist-packages)\u001b[0m\u001b[33m\n",
            "\u001b[0mSuccessfully installed scipy\n"
          ]
        }
      ],
      "source": [
        "!pip install --upgrade gensim\n"
      ]
    },
    {
      "cell_type": "code",
      "source": [
        "# from google.colab import drive\n",
        "# drive.mount('/content/drive')\n",
        "\n",
        "\n"
      ],
      "metadata": {
        "id": "39MQsjyghBre",
        "colab": {
          "base_uri": "https://localhost:8080/"
        },
        "outputId": "9014d318-7806-40fe-a6ea-57413274f5cb"
      },
      "execution_count": 3,
      "outputs": [
        {
          "output_type": "stream",
          "name": "stdout",
          "text": [
            "Drive already mounted at /content/drive; to attempt to forcibly remount, call drive.mount(\"/content/drive\", force_remount=True).\n"
          ]
        }
      ]
    },
    {
      "cell_type": "code",
      "source": [
        "#To run this code just change the path name as mentioned below after downloading the required files\n",
        "#I have uploaded those things on my drive and accessing them from there\n",
        "english_embedding_path = '/content/cc.en.300.vec.gz'\n",
        "hindi_embedding_path = '/content/cc.hi.300.vec.gz'\n",
        "\n",
        "\n"
      ],
      "metadata": {
        "id": "rqMrEialsp7G"
      },
      "execution_count": 4,
      "outputs": []
    },
    {
      "cell_type": "code",
      "source": [
        "from gensim.models import KeyedVectors\n",
        "\n",
        "en_model = KeyedVectors.load_word2vec_format(english_embedding_path, binary=False)\n",
        "hi_model = KeyedVectors.load_word2vec_format(hindi_embedding_path, binary=False)"
      ],
      "metadata": {
        "id": "3bpI9Azxsvy1"
      },
      "execution_count": 5,
      "outputs": []
    },
    {
      "cell_type": "code",
      "source": [
        "# Extracting top 100,000\n",
        "top_k = 100000\n",
        "\n",
        "en_top_words = en_model.index_to_key[:top_k]\n",
        "hi_top_words = hi_model.index_to_key[:top_k]\n",
        "\n",
        "# Build filtered dictionaries\n",
        "en_filtered = {word: en_model[word] for word in en_top_words}\n",
        "hi_filtered = {word: hi_model[word] for word in hi_top_words}\n"
      ],
      "metadata": {
        "id": "6JgoEiBYswfV"
      },
      "execution_count": 6,
      "outputs": []
    },
    {
      "cell_type": "code",
      "source": [
        "print(f\"English vocab size: {len(en_filtered)}\")\n",
        "print(f\"Hindi vocab size: {len(hi_filtered)}\")\n",
        "print(f\"Sample English words: {list(en_filtered.keys())[:5]}\")\n",
        "print(f\"Sample Hindi words: {list(hi_filtered.keys())[:5]}\")"
      ],
      "metadata": {
        "id": "KRhz03OhfE0F",
        "colab": {
          "base_uri": "https://localhost:8080/"
        },
        "outputId": "9e3a52f5-00c8-4a3b-f548-e42cac6913ca"
      },
      "execution_count": 7,
      "outputs": [
        {
          "output_type": "stream",
          "name": "stdout",
          "text": [
            "English vocab size: 100000\n",
            "Hindi vocab size: 100000\n",
            "Sample English words: [',', 'the', '.', 'and', 'to']\n",
            "Sample Hindi words: ['के', '।', 'है', ',', 'में']\n"
          ]
        }
      ]
    },
    {
      "cell_type": "markdown",
      "source": [
        "IMPORTING NECCESITIES\n"
      ],
      "metadata": {
        "id": "xRDWPAGl6hIP"
      }
    },
    {
      "cell_type": "code",
      "source": [
        "import numpy as np\n",
        "import pandas as pd\n",
        "import matplotlib.pyplot as plt\n",
        "from sklearn.metrics.pairwise import cosine_similarity\n",
        "from scipy.spatial.distance import cdist\n",
        "from scipy.linalg import orthogonal_procrustes\n",
        "import urllib.request\n",
        "import os\n",
        "import gzip\n",
        "import io\n",
        "import tarfile\n",
        "import time\n"
      ],
      "metadata": {
        "id": "AR8VX_FBEYMB"
      },
      "execution_count": 8,
      "outputs": []
    },
    {
      "cell_type": "code",
      "source": [
        "#Downloading and process the MUSE bilingual dictionary\n",
        "\n",
        "def download_muse_dictionary(src_lang='en', tgt_lang='hi'):\n",
        "    print(f\"Downloading {src_lang}-{tgt_lang} dictionary...\")\n",
        "    base_url = \"https://dl.fbaipublicfiles.com/arrival/dictionaries/\"\n",
        "    src_file = f\"{src_lang}-{tgt_lang}.0-5000.txt\"\n",
        "    tgt_file = f\"{tgt_lang}-{src_lang}.0-5000.txt\"\n",
        "\n",
        "    os.makedirs('dictionaries', exist_ok=True)\n",
        "    #Downloading source to target\n",
        "    urllib.request.urlretrieve(base_url + src_file, os.path.join('dictionaries', src_file))\n",
        "    #Downloading target to source\n",
        "    urllib.request.urlretrieve(base_url + tgt_file, os.path.join('dictionaries', tgt_file))\n",
        "    print(\"Dictionary files downloaded successfully!\")\n",
        "    return os.path.join('dictionaries', src_file), os.path.join('dictionaries', tgt_file)"
      ],
      "metadata": {
        "id": "trosXdmlVvh0"
      },
      "execution_count": 9,
      "outputs": []
    },
    {
      "cell_type": "markdown",
      "source": [
        "LOADING THE DICTIONARY"
      ],
      "metadata": {
        "id": "N9jSoRqM6avg"
      }
    },
    {
      "cell_type": "code",
      "source": [
        "\n",
        "#Processing the dictionary files to create train and test sets\n",
        "\n",
        "\n",
        "def load_dictionary(dict_path, src_vocab, tgt_vocab):\n",
        "    word_pairs = []\n",
        "    with open(dict_path, 'r', encoding='utf-8') as f:\n",
        "        for line in f:\n",
        "            src_word, tgt_word = line.strip().split()\n",
        "            if src_word in src_vocab and tgt_word in tgt_vocab:\n",
        "                word_pairs.append((src_word, tgt_word))\n",
        "    return word_pairs\n"
      ],
      "metadata": {
        "id": "emNascIyVzXT"
      },
      "execution_count": 10,
      "outputs": []
    },
    {
      "cell_type": "markdown",
      "source": [
        "ALIGNMENT"
      ],
      "metadata": {
        "id": "JimTH6Hd6YAa"
      }
    },
    {
      "cell_type": "markdown",
      "source": [
        "\n",
        "    Learn a linear mapping between source and target embeddings using Procrustes analysis.\n",
        "    \n",
        "    Args:\n",
        "        src_embs: Dictionary of source word embeddings\n",
        "        tgt_embs: Dictionary of target word embeddings\n",
        "        bilingual_dict: List of (source_word, target_word) pairs\n",
        "        \n",
        "    Returns:\n",
        "        W: The learned mapping matrix\n"
      ],
      "metadata": {
        "id": "NtDyVtyuXPKs"
      }
    },
    {
      "cell_type": "code",
      "source": [
        "#Implementing the Procrustes alignment method\n",
        "\n",
        "\n",
        "def learn_procrustes_alignment(src_embs, tgt_embs, bilingual_dict):\n",
        "    print(\"Learning Procrustes alignment...\")\n",
        "    src_words = [pair[0] for pair in bilingual_dict]\n",
        "    X = np.vstack([src_embs[word] for word in src_words])\n",
        "    #Extract matrix of target word vectors\n",
        "    tgt_words = [pair[1] for pair in bilingual_dict]\n",
        "    Y = np.vstack([tgt_embs[word] for word in tgt_words])\n",
        "    #Computing the optimal rotation matrix using Procrustes analysis\n",
        "    #W will be an orthogonal matrix that maps X to Y\n",
        "    W, _ = orthogonal_procrustes(X, Y)\n",
        "    print(f\"Mapping matrix shape: {W.shape}\")\n",
        "    return W\n"
      ],
      "metadata": {
        "id": "UgV-0ggQV230"
      },
      "execution_count": 11,
      "outputs": []
    },
    {
      "cell_type": "markdown",
      "source": [
        "PRECISION@1 AND PRECISION@5"
      ],
      "metadata": {
        "id": "zt3DqJ8w6SCm"
      }
    },
    {
      "cell_type": "markdown",
      "source": [
        "\n",
        "    Compute precision@k for word translation.\n",
        "    \n",
        "    Args:\n",
        "        src_embs: Dictionary of source word embeddings\n",
        "        tgt_embs: Dictionary of target word embeddings\n",
        "        test_dict: List of (source_word, target_word) pairs for testing\n",
        "        mapping_matrix: The learned mapping matrix\n",
        "        k: The k in precision@k\n",
        "        \n",
        "    Returns:\n",
        "        p_at_k: Precision@k score\n",
        "        translations: Dictionary mapping source words to predicted translations\n"
      ],
      "metadata": {
        "id": "-nfj7oXy1JiZ"
      }
    },
    {
      "cell_type": "code",
      "source": [
        "#Evaluateing translation accuracy\n",
        "\n",
        "\n",
        "def compute_precision_at_k(src_embs, tgt_embs, test_dict, mapping_matrix, k=5):\n",
        "\n",
        "    correct = 0\n",
        "    translations = {}\n",
        "    tgt_matrix = np.vstack([tgt_embs[word] for word in tgt_embs])\n",
        "    tgt_words = list(tgt_embs.keys())\n",
        "\n",
        "    print(f\"Evaluating translation accuracy for {len(test_dict)} word pairs...\")\n",
        "\n",
        "    for i, (src_word, true_tgt_word) in enumerate(test_dict):\n",
        "        if i % 500 == 0:\n",
        "            print(f\"Processed {i}/{len(test_dict)} word pairs...\")\n",
        "\n",
        "        src_vec = src_embs[src_word]  #Get source word embedding and map it to target space\n",
        "        mapped_vec = np.dot(src_vec, mapping_matrix)\n",
        "        similarities = cosine_similarity(mapped_vec.reshape(1, -1), tgt_matrix)[0] #Compute cosine similarities with all target words\n",
        "        top_k_indices = similarities.argsort()[-k:][::-1]      #Get top-k most similar target words\n",
        "        top_k_words = [tgt_words[idx] for idx in top_k_indices]\n",
        "        translations[src_word] = top_k_words #Store translations\n",
        "        if true_tgt_word in top_k_words: #Check if true translation is in top-k\n",
        "            correct += 1\n",
        "\n",
        "    p_at_k = correct / len(test_dict)\n",
        "    print(f\"Precision@{k}: {p_at_k:.4f}\")\n",
        "    return p_at_k, translations"
      ],
      "metadata": {
        "id": "AgxrMo7kV7l0"
      },
      "execution_count": 12,
      "outputs": []
    },
    {
      "cell_type": "markdown",
      "source": [
        "ABLATION STUDY\n"
      ],
      "metadata": {
        "id": "5pSwdAg26PAT"
      }
    },
    {
      "cell_type": "markdown",
      "source": [
        "\n",
        "    Conduct ablation study to assess impact of bilingual lexicon size.\n",
        "    \n",
        "    Args:\n",
        "        src_embs: Dictionary of source word embeddings\n",
        "        tgt_embs: Dictionary of target word embeddings\n",
        "        train_dict: List of (source_word, target_word) pairs for training\n",
        "        test_dict: List of (source_word, target_word) pairs for testing\n",
        "        dict_sizes: List of dictionary sizes to test\n",
        "        \n",
        "    Returns:\n",
        "        results: Dictionary with dictionary sizes as keys and precision scores as values"
      ],
      "metadata": {
        "id": "7fS8B8nA1i73"
      }
    },
    {
      "cell_type": "code",
      "source": [
        "#Conducting ablation study with different dictionary sizes\n",
        "\n",
        "\n",
        "def ablation_study(src_embs, tgt_embs, train_dict, test_dict, dict_sizes=[1000, 3000, 5000, 10000, 20000]):\n",
        "\n",
        "    results = {'p@1': [], 'p@5': []}\n",
        "    for size in dict_sizes:\n",
        "        if size > len(train_dict):\n",
        "            print(f\"Warning: Requested dictionary size {size} exceeds available pairs {len(train_dict)}\")\n",
        "            size = len(train_dict)\n",
        "\n",
        "        print(f\"\\nTesting with dictionary size: {size}\")\n",
        "        subset_dict = train_dict[:size]\n",
        "        W = learn_procrustes_alignment(src_embs, tgt_embs, subset_dict)#Learn mapping with current dictionary size\n",
        "        p_at_1, _ = compute_precision_at_k(src_embs, tgt_embs, test_dict, W, k=1)#Evaluate precision@1\n",
        "        results['p@1'].append(p_at_1)\n",
        "        p_at_5, translations = compute_precision_at_k(src_embs, tgt_embs, test_dict, W, k=5)#Evaluate precision@5\n",
        "        results['p@5'].append(p_at_5)\n",
        "\n",
        "    return results\n"
      ],
      "metadata": {
        "id": "GLy6du7UWAu6"
      },
      "execution_count": 13,
      "outputs": []
    },
    {
      "cell_type": "markdown",
      "source": [
        "COSINE SIMILARITY"
      ],
      "metadata": {
        "id": "fWMMIYIA6LB4"
      }
    },
    {
      "cell_type": "markdown",
      "source": [
        "\n",
        "    Analyze cosine similarities between word pairs after alignment.\n",
        "    \n",
        "    Args:\n",
        "        src_embs: Dictionary of source word embeddings\n",
        "        tgt_embs: Dictionary of target word embeddings\n",
        "        test_dict: List of (source_word, target_word) pairs for testing\n",
        "        mapping_matrix: The learned mapping matrix\n",
        "        \n",
        "    Returns:\n",
        "        similarities: List of cosine similarities between aligned word pairs\n",
        "  "
      ],
      "metadata": {
        "id": "V57rT9No12m3"
      }
    },
    {
      "cell_type": "code",
      "source": [
        "#Analyzing cosine similarities between word pairs\n",
        "\n",
        "\n",
        "def analyze_cosine_similarities(src_embs, tgt_embs, test_dict, mapping_matrix):\n",
        "\n",
        "    similarities = []\n",
        "    print(\"Analyzing cosine similarities...\")\n",
        "    for src_word, tgt_word in test_dict:\n",
        "        src_vec = src_embs[src_word]#Get source word embedding and map it to target space\n",
        "        mapped_vec = np.dot(src_vec, mapping_matrix)\n",
        "        tgt_vec = tgt_embs[tgt_word] #Get target word embedding\n",
        "        sim = cosine_similarity(mapped_vec.reshape(1, -1), tgt_vec.reshape(1, -1))[0][0]#Compute cosine similarity\n",
        "        similarities.append((src_word, tgt_word, sim))\n",
        "\n",
        "    return similarities"
      ],
      "metadata": {
        "id": "OTrBLogvWApd"
      },
      "execution_count": 14,
      "outputs": []
    },
    {
      "cell_type": "markdown",
      "source": [
        "VISUALIZATION"
      ],
      "metadata": {
        "id": "OuS8VUvd6GdM"
      }
    },
    {
      "cell_type": "markdown",
      "source": [
        "\n",
        "    Plot the results of the ablation study.\n",
        "    \n",
        "    Args:\n",
        "        results: Dictionary with dictionary sizes as keys and precision scores as values\n",
        "        dict_sizes: List of dictionary sizes tested\n"
      ],
      "metadata": {
        "id": "ua7ZzOPC2Hmc"
      }
    },
    {
      "cell_type": "code",
      "source": [
        "#Visualizing results\n",
        "\n",
        "\n",
        "def plot_ablation_results(results, dict_sizes):\n",
        "    plt.figure(figsize=(10, 6))\n",
        "    plt.plot(dict_sizes, results['p@1'], marker='o', label='Precision@1')\n",
        "    plt.plot(dict_sizes, results['p@5'], marker='s', label='Precision@5')\n",
        "    plt.xlabel('Bilingual Dictionary Size')\n",
        "    plt.ylabel('Precision')\n",
        "    plt.title('Impact of Bilingual Dictionary Size on Translation Accuracy')\n",
        "    plt.legend()\n",
        "    plt.grid(True)\n",
        "    plt.savefig('ablation_results.png')\n",
        "    plt.show()\n"
      ],
      "metadata": {
        "id": "kYl1ag42WAgW"
      },
      "execution_count": 15,
      "outputs": []
    },
    {
      "cell_type": "markdown",
      "source": [
        "#EXTRA\n",
        "I TRIED OPTIONAL AND WAS NOT ABLE TO RUN DUE TO COMPUTATIONAL CONSTRAINTS\n"
      ],
      "metadata": {
        "id": "VmvNcatr574t"
      }
    },
    {
      "cell_type": "markdown",
      "source": [
        "BELOW IS THE CODE"
      ],
      "metadata": {
        "id": "vvfHvN7Y7L56"
      }
    },
    {
      "cell_type": "code",
      "source": [
        "#Implementing CSLS for improved nearest neighbor retrieval\n",
        "def get_nn_avg_dist(emb, query, knn):\n",
        "\n",
        "    bs = 1024\n",
        "    all_distances = []\n",
        "\n",
        "\n",
        "    for i in range(0, query.shape[0], bs):# Compute distances for each batch to avoid memory issues\n",
        "        batch = query[i:i + bs]\n",
        "        distances = cdist(batch, emb, metric='cosine')\n",
        "        distances = np.sort(distances, axis=1)[:, :knn]\n",
        "        all_distances.append(distances)\n",
        "\n",
        "    all_distances = np.vstack(all_distances)\n",
        "    return all_distances.mean(axis=1)\n",
        "\n",
        "def csls_retrieval(x_src, y_tgt, mapping_matrix, k=10):\n",
        "\n",
        "    # Map source embeddings to target space\n",
        "    x_mapped = np.dot(x_src, mapping_matrix)\n",
        "\n",
        "    # Compute nearest neighbors\n",
        "    src_avg_dist = get_nn_avg_dist(y_tgt, x_mapped, k)\n",
        "    tgt_avg_dist = get_nn_avg_dist(x_mapped, y_tgt, k)\n",
        "\n",
        "    # Compute CSLS scores\n",
        "    cosine_sim = cosine_similarity(x_mapped, y_tgt)\n",
        "    scores = 2 * cosine_sim\n",
        "\n",
        "    # Subtract average distances\n",
        "    scores -= np.tile(src_avg_dist[:, np.newaxis], (1, y_tgt.shape[0]))\n",
        "    scores -= np.tile(tgt_avg_dist, (x_src.shape[0], 1))\n",
        "\n",
        "    return scores\n",
        "\n",
        "# Implement adversarial training for unsupervised word alignment\n",
        "# (Note: This is a simplified version of the full adversarial approach in the MUSE paper)\n",
        "def unsupervised_alignment(src_embs, tgt_embs, num_iterations=5):\n",
        "\n",
        "    # Convert dictionaries to matrices\n",
        "    src_words = list(src_embs.keys())\n",
        "    tgt_words = list(tgt_embs.keys())\n",
        "\n",
        "    X = np.vstack([src_embs[word] for word in src_words])\n",
        "    Y = np.vstack([tgt_embs[word] for word in tgt_words])\n",
        "\n",
        "    # Initialize with identity matrix\n",
        "    W = np.eye(X.shape[1])\n",
        "\n",
        "    for iteration in range(num_iterations):\n",
        "        print(f\"Iteration {iteration+1}/{num_iterations}\")\n",
        "\n",
        "        # Step 1: Map source embeddings to target space\n",
        "        X_mapped = np.dot(X, W)\n",
        "\n",
        "        # Step 2: Build synthetic dictionary using CSLS\n",
        "        csls_scores = csls_retrieval(X, Y, W)\n",
        "        src_indices = np.arange(len(src_words))\n",
        "        tgt_indices = np.argmax(csls_scores, axis=1)\n",
        "\n",
        "        # Step 3: Build synthetic dictionary\n",
        "        synthetic_dict = [(src_words[i], tgt_words[j]) for i, j in zip(src_indices, tgt_indices)]\n",
        "\n",
        "        # Step 4: Refine mapping with Procrustes analysis using synthetic dictionary\n",
        "        W = learn_procrustes_alignment(src_embs, tgt_embs, synthetic_dict)\n",
        "\n",
        "    return W\n",
        "\n",
        "# Compare supervised and unsupervised methods\n",
        "def compare_methods(src_embs, tgt_embs, test_dict):\n",
        "\n",
        "    results = {}\n",
        "\n",
        "    # Supervised method (Procrustes)\n",
        "    print(\"\\nEvaluating supervised Procrustes method...\")\n",
        "    # We need a training dictionary for supervised method\n",
        "    train_size = int(0.8 * len(test_dict))\n",
        "    train_dict = test_dict[:train_size]\n",
        "    eval_dict = test_dict[train_size:]\n",
        "\n",
        "    W_supervised = learn_procrustes_alignment(src_embs, tgt_embs, train_dict)\n",
        "    p1_supervised, _ = compute_precision_at_k(src_embs, tgt_embs, eval_dict, W_supervised, k=1)\n",
        "    p5_supervised, _ = compute_precision_at_k(src_embs, tgt_embs, eval_dict, W_supervised, k=5)\n",
        "\n",
        "    results['Supervised'] = {'p@1': p1_supervised, 'p@5': p5_supervised}\n",
        "\n",
        "    # Unsupervised method (Adversarial + CSLS)\n",
        "    print(\"\\nEvaluating unsupervised adversarial + CSLS method...\")\n",
        "    W_unsupervised = unsupervised_alignment(src_embs, tgt_embs)\n",
        "    p1_unsupervised, _ = compute_precision_at_k(src_embs, tgt_embs, eval_dict, W_unsupervised, k=1)\n",
        "    p5_unsupervised, _ = compute_precision_at_k(src_embs, tgt_embs, eval_dict, W_unsupervised, k=5)\n",
        "\n",
        "    results['Unsupervised'] = {'p@1': p1_unsupervised, 'p@5': p5_unsupervised}\n",
        "\n",
        "    # Plot comparison\n",
        "    methods = list(results.keys())\n",
        "    p1_scores = [results[m]['p@1'] for m in methods]\n",
        "    p5_scores = [results[m]['p@5'] for m in methods]\n",
        "\n",
        "    plt.figure(figsize=(10, 6))\n",
        "    x = np.arange(len(methods))\n",
        "    width = 0.35\n",
        "\n",
        "    plt.bar(x - width/2, p1_scores, width, label='Precision@1')\n",
        "    plt.bar(x + width/2, p5_scores, width, label='Precision@5')\n",
        "\n",
        "    plt.xlabel('Method')\n",
        "    plt.ylabel('Precision')\n",
        "    plt.title('Comparison of Supervised and Unsupervised Alignment Methods')\n",
        "    plt.xticks(x, methods)\n",
        "    plt.legend()\n",
        "    plt.grid(True, axis='y')\n",
        "    plt.savefig('method_comparison.png')\n",
        "    plt.show()\n",
        "\n",
        "    return results\n"
      ],
      "metadata": {
        "id": "hdE6-zECVJyZ"
      },
      "execution_count": null,
      "outputs": []
    },
    {
      "cell_type": "markdown",
      "source": [
        "MAIN FUNCTION\n"
      ],
      "metadata": {
        "id": "TGpZ37gK5zL4"
      }
    },
    {
      "cell_type": "code",
      "source": [
        "# Main\n",
        "def main():\n",
        "    #Converting loaded models to dictionaries\n",
        "    print(\"Processin\")\n",
        "    en_dict = {word: en_model[word] for word in en_top_words}\n",
        "    hi_dict = {word: hi_model[word] for word in hi_top_words}\n",
        "\n",
        "    #Download and process MUSE bilingual dictionary\n",
        "    en_hi_path, hi_en_path = download_muse_dictionary()\n",
        "\n",
        "    #Loading dictionaries\n",
        "    print(\"Loading bilingual dictionary\")\n",
        "    word_pairs = load_dictionary(en_hi_path, en_dict, hi_dict)\n",
        "    print(f\"Found {len(word_pairs)} valid word pairs\")\n",
        "\n",
        "    #Split into train and test sets (80/20 split)\n",
        "    train_size = int(0.8 * len(word_pairs))\n",
        "    train_dict = word_pairs[:train_size]\n",
        "    test_dict = word_pairs[train_size:]\n",
        "    print(f\"Train dictionary size: {len(train_dict)}\")\n",
        "    print(f\"Test dictionary size: {len(test_dict)}\")\n",
        "\n",
        "    #Learn Procrustes alignment\n",
        "    mapping_matrix = learn_procrustes_alignment(en_dict, hi_dict, train_dict)\n",
        "\n",
        "    #Evaluate translation accuracy\n",
        "    p_at_1, _ = compute_precision_at_k(en_dict, hi_dict, test_dict, mapping_matrix, k=1)\n",
        "    p_at_5, translations = compute_precision_at_k(en_dict, hi_dict, test_dict, mapping_matrix, k=5)\n",
        "\n",
        "    #Conduct ablation study\n",
        "    dict_sizes = [1000, 2000, 3000, 4000, len(train_dict)]\n",
        "    ablation_results = ablation_study(en_dict, hi_dict, train_dict, test_dict, dict_sizes)\n",
        "\n",
        "    #Analyze cosine similarities\n",
        "    similarities = analyze_cosine_similarities(en_dict, hi_dict, test_dict[:100], mapping_matrix)  #Analyze first 100 pairs\n",
        "\n",
        "\n",
        "    sorted_sims = sorted(similarities, key=lambda x: x[2], reverse=True)#Sort similarities and print top and bottom examples\n",
        "\n",
        "    print(\"\\nTop 10 most similar word pairs after alignment:\")\n",
        "    for src, tgt, sim in sorted_sims[:10]:\n",
        "        print(f\"{src} - {tgt}: {sim:.4f}\")\n",
        "\n",
        "    print(\"\\nBottom 10 least similar word pairs after alignment:\")\n",
        "    for src, tgt, sim in sorted_sims[-10:]:\n",
        "        print(f\"{src} - {tgt}: {sim:.4f}\")\n",
        "\n",
        "    #Visualizing ablation results\n",
        "    plot_ablation_results(ablation_results, dict_sizes)\n",
        "\n",
        "    #Printing some sample translations\n",
        "    print(\"\\nSample translations:\")\n",
        "    sample_words = list(translations.keys())[:5]\n",
        "    for word in sample_words:\n",
        "        print(f\"{word} -> {translations[word]}\")\n",
        "\n",
        "\n",
        "    np.save('mapping_matrix.npy', mapping_matrix) #Saving results\n",
        "    print(\"\\nMapping matrix saved to mapping_matrix.npy\")\n",
        "\n",
        "\n",
        "\n",
        "    # #Extras--Compare supervised and unsupervised methods\n",
        "    # print(\"\\n### Extra Credit: Comparing Supervised and Unsupervised Methods ###\")\n",
        "    # comparison_results = compare_methods(en_dict, hi_dict, word_pairs)\n",
        "    # print(\"Results:\")\n",
        "    # for method, scores in comparison_results.items():\n",
        "    #     print(f\"{method}: P@1 = {scores['p@1']:.4f}, P@5 = {scores['p@5']:.4f}\")\n",
        "\n",
        "if __name__ == \"__main__\":\n",
        "    main()"
      ],
      "metadata": {
        "id": "ZmtuksmqWQck",
        "colab": {
          "base_uri": "https://localhost:8080/",
          "height": 1000
        },
        "outputId": "7a923a46-dacb-485f-ae96-1c736008ff36"
      },
      "execution_count": 16,
      "outputs": [
        {
          "output_type": "stream",
          "name": "stdout",
          "text": [
            "Processin\n",
            "Downloading en-hi dictionary...\n",
            "Dictionary files downloaded successfully!\n",
            "Loading bilingual dictionary\n",
            "Found 8130 valid word pairs\n",
            "Train dictionary size: 6504\n",
            "Test dictionary size: 1626\n",
            "Learning Procrustes alignment...\n",
            "Mapping matrix shape: (300, 300)\n",
            "Evaluating translation accuracy for 1626 word pairs...\n",
            "Processed 0/1626 word pairs...\n",
            "Processed 500/1626 word pairs...\n",
            "Processed 1000/1626 word pairs...\n",
            "Processed 1500/1626 word pairs...\n",
            "Precision@1: 0.2651\n",
            "Evaluating translation accuracy for 1626 word pairs...\n",
            "Processed 0/1626 word pairs...\n",
            "Processed 500/1626 word pairs...\n",
            "Processed 1000/1626 word pairs...\n",
            "Processed 1500/1626 word pairs...\n",
            "Precision@5: 0.4723\n",
            "\n",
            "Testing with dictionary size: 1000\n",
            "Learning Procrustes alignment...\n",
            "Mapping matrix shape: (300, 300)\n",
            "Evaluating translation accuracy for 1626 word pairs...\n",
            "Processed 0/1626 word pairs...\n",
            "Processed 500/1626 word pairs...\n",
            "Processed 1000/1626 word pairs...\n",
            "Processed 1500/1626 word pairs...\n",
            "Precision@1: 0.0972\n",
            "Evaluating translation accuracy for 1626 word pairs...\n",
            "Processed 0/1626 word pairs...\n",
            "Processed 500/1626 word pairs...\n",
            "Processed 1000/1626 word pairs...\n",
            "Processed 1500/1626 word pairs...\n",
            "Precision@5: 0.2349\n",
            "\n",
            "Testing with dictionary size: 2000\n",
            "Learning Procrustes alignment...\n",
            "Mapping matrix shape: (300, 300)\n",
            "Evaluating translation accuracy for 1626 word pairs...\n",
            "Processed 0/1626 word pairs...\n",
            "Processed 500/1626 word pairs...\n",
            "Processed 1000/1626 word pairs...\n",
            "Processed 1500/1626 word pairs...\n",
            "Precision@1: 0.1740\n",
            "Evaluating translation accuracy for 1626 word pairs...\n",
            "Processed 0/1626 word pairs...\n",
            "Processed 500/1626 word pairs...\n",
            "Processed 1000/1626 word pairs...\n",
            "Processed 1500/1626 word pairs...\n",
            "Precision@5: 0.3782\n",
            "\n",
            "Testing with dictionary size: 3000\n",
            "Learning Procrustes alignment...\n",
            "Mapping matrix shape: (300, 300)\n",
            "Evaluating translation accuracy for 1626 word pairs...\n",
            "Processed 0/1626 word pairs...\n",
            "Processed 500/1626 word pairs...\n",
            "Processed 1000/1626 word pairs...\n",
            "Processed 1500/1626 word pairs...\n",
            "Precision@1: 0.2134\n",
            "Evaluating translation accuracy for 1626 word pairs...\n",
            "Processed 0/1626 word pairs...\n",
            "Processed 500/1626 word pairs...\n",
            "Processed 1000/1626 word pairs...\n",
            "Processed 1500/1626 word pairs...\n",
            "Precision@5: 0.4207\n",
            "\n",
            "Testing with dictionary size: 4000\n",
            "Learning Procrustes alignment...\n",
            "Mapping matrix shape: (300, 300)\n",
            "Evaluating translation accuracy for 1626 word pairs...\n",
            "Processed 0/1626 word pairs...\n",
            "Processed 500/1626 word pairs...\n",
            "Processed 1000/1626 word pairs...\n",
            "Processed 1500/1626 word pairs...\n",
            "Precision@1: 0.2399\n",
            "Evaluating translation accuracy for 1626 word pairs...\n",
            "Processed 0/1626 word pairs...\n",
            "Processed 500/1626 word pairs...\n",
            "Processed 1000/1626 word pairs...\n",
            "Processed 1500/1626 word pairs...\n",
            "Precision@5: 0.4459\n",
            "\n",
            "Testing with dictionary size: 6504\n",
            "Learning Procrustes alignment...\n",
            "Mapping matrix shape: (300, 300)\n",
            "Evaluating translation accuracy for 1626 word pairs...\n",
            "Processed 0/1626 word pairs...\n",
            "Processed 500/1626 word pairs...\n",
            "Processed 1000/1626 word pairs...\n",
            "Processed 1500/1626 word pairs...\n",
            "Precision@1: 0.2651\n",
            "Evaluating translation accuracy for 1626 word pairs...\n",
            "Processed 0/1626 word pairs...\n",
            "Processed 500/1626 word pairs...\n",
            "Processed 1000/1626 word pairs...\n",
            "Processed 1500/1626 word pairs...\n",
            "Precision@5: 0.4723\n",
            "Analyzing cosine similarities...\n",
            "\n",
            "Top 10 most similar word pairs after alignment:\n",
            "physician - चिकित्सक: 0.6401\n",
            "legs - पैर: 0.6206\n",
            "legs - पैरों: 0.5955\n",
            "alcohol - शराब: 0.5887\n",
            "tanks - टैंक: 0.5855\n",
            "earthquake - भूकंप: 0.5714\n",
            "pending - लंबित: 0.5667\n",
            "presidents - राष्ट्रपतियों: 0.5575\n",
            "messages - संदेश: 0.5513\n",
            "purple - बैंगनी: 0.5454\n",
            "\n",
            "Bottom 10 least similar word pairs after alignment:\n",
            "utility - उपयोगी: 0.2911\n",
            "cloud - मेघ: 0.2696\n",
            "utility - यूटिलिटी: 0.2603\n",
            "den - खोह: 0.2408\n",
            "den - den: 0.2241\n",
            "min - न्यूनतम: 0.2237\n",
            "con - कॉन: 0.1919\n",
            "den - डेन: 0.1850\n",
            "globe - ग्लोब: 0.1780\n",
            "corresponding - सम्बन्धित: 0.1456\n"
          ]
        },
        {
          "output_type": "display_data",
          "data": {
            "text/plain": [
              "<Figure size 1000x600 with 1 Axes>"
            ],
            "image/png": "[encoded data removed]"
          },
          "metadata": {}
        },
        {
          "output_type": "stream",
          "name": "stdout",
          "text": [
            "\n",
            "Sample translations:\n",
            "globe -> ['देश', 'दुनिया', 'देशों', 'कोने', 'दुनियां']\n",
            "gross -> ['बढ़ोत्तरी', 'पापकर्म', 'व्यहवार', 'गाढ़ी', 'जीडीपी']\n",
            "gradually -> ['धीरे', 'तेजी', 'बढ़ने', 'बाद', 'बढऩे']\n",
            "managing -> ['प्रबंधन', 'संभालना', 'काम', 'संभालने', 'जिम्मेदारियां']\n",
            "experiment -> ['परीक्षण', 'अनुमापन', 'अध्ययन', 'आजमाया', 'प्रयोगशाला']\n",
            "\n",
            "Mapping matrix saved to mapping_matrix.npy\n"
          ]
        }
      ]
    },
    {
      "cell_type": "code",
      "source": [],
      "metadata": {
        "id": "joa14x_t0mhT"
      },
      "execution_count": null,
      "outputs": []
    }
  ]
}